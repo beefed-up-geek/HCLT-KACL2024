{
 "cells": [
  {
   "cell_type": "markdown",
   "metadata": {
    "id": "dN0MCpFNiv2v"
   },
   "source": [
    "#1. 필요한 라이브러리 임포트"
   ]
  },
  {
   "cell_type": "code",
   "execution_count": null,
   "metadata": {
    "colab": {
     "base_uri": "https://localhost:8080/"
    },
    "id": "f_vQDKu3c_TC",
    "outputId": "b213e5f5-0001-40d5-9e5d-9f49c04e56a4"
   },
   "outputs": [
    {
     "name": "stdout",
     "output_type": "stream",
     "text": [
      "Requirement already satisfied: konlpy in /usr/local/lib/python3.10/dist-packages (0.6.0)\n",
      "Requirement already satisfied: JPype1>=0.7.0 in /usr/local/lib/python3.10/dist-packages (from konlpy) (1.5.0)\n",
      "Requirement already satisfied: lxml>=4.1.0 in /usr/local/lib/python3.10/dist-packages (from konlpy) (4.9.4)\n",
      "Requirement already satisfied: numpy>=1.6 in /usr/local/lib/python3.10/dist-packages (from konlpy) (1.26.4)\n",
      "Requirement already satisfied: packaging in /usr/local/lib/python3.10/dist-packages (from JPype1>=0.7.0->konlpy) (24.1)\n",
      "Reading package lists... Done\n",
      "Building dependency tree... Done\n",
      "Reading state information... Done\n",
      "openjdk-11-jdk is already the newest version (11.0.24+8-1ubuntu3~22.04).\n",
      "0 upgraded, 0 newly installed, 0 to remove and 49 not upgraded.\n"
     ]
    }
   ],
   "source": [
    "# KoNLPy와 Kkma 설치\n",
    "!pip install konlpy\n",
    "\n",
    "# Java 설치 (KoNLPy에서 Kkma를 사용하기 위해 필요)\n",
    "!apt-get install -y openjdk-11-jdk\n",
    "\n",
    "# JPype1 설치 (KoNLPy가 Java와 상호작용하기 위해 필요)\n",
    "!pip install jpype1\n",
    "\n",
    "# KoNLPy에서 필요한 추가 파일 설치\n",
    "!apt-get install -y curl\n",
    "!bash <(curl -s https://raw.githubusercontent.com/konlpy/konlpy/master/scripts/mecab.sh)"
   ]
  },
  {
   "cell_type": "markdown",
   "metadata": {
    "id": "wiASn67lizai"
   },
   "source": [
    "#2. 점수 계산 함수 구현"
   ]
  },
  {
   "cell_type": "code",
   "execution_count": 2,
   "metadata": {
    "colab": {
     "base_uri": "https://localhost:8080/"
    },
    "id": "hqJAHnVIdIn0",
    "outputId": "47006556-d49e-422d-dab1-006119e3a251"
   },
   "outputs": [
    {
     "name": "stdout",
     "output_type": "stream",
     "text": [
      "ROUGE-1 -> Precision: 1.0, Recall: 1.0, F1: 1.0\n",
      "ROUGE-2 -> Precision: 0.75, Recall: 0.75, F1: 0.75\n",
      "ROUGE-L -> Precision: 0.7777777777777778, Recall: 0.7777777777777778, F1: 0.7777777777777778\n",
      "BLEU -> Score: 0.48109772909788073\n"
     ]
    }
   ],
   "source": [
    "from konlpy.tag import Kkma\n",
    "from collections import Counter\n",
    "import math\n",
    "\n",
    "# Kkma 형태소 분석기 생성\n",
    "kkma = Kkma()\n",
    "\n",
    "# n-gram 생성 함수\n",
    "def get_ngrams(tokens, n):\n",
    "    return [tuple(tokens[i:i+n]) for i in range(len(tokens)-n+1)]\n",
    "\n",
    "# ROUGE 계산 함수\n",
    "def calculate_rouge(reference, candidate, n=1):\n",
    "    # n-gram 생성\n",
    "    ref_ngrams = get_ngrams(reference, n)\n",
    "    cand_ngrams = get_ngrams(candidate, n)\n",
    "\n",
    "    # n-gram 카운트\n",
    "    ref_counter = Counter(ref_ngrams)\n",
    "    cand_counter = Counter(cand_ngrams)\n",
    "\n",
    "    # 교집합 개수\n",
    "    overlap = sum((ref_counter & cand_counter).values())\n",
    "\n",
    "    # Precision, Recall, F1 계산\n",
    "    if len(cand_ngrams) == 0:\n",
    "        precision = 0.0\n",
    "    else:\n",
    "        precision = overlap / len(cand_ngrams)\n",
    "\n",
    "    if len(ref_ngrams) == 0:\n",
    "        recall = 0.0\n",
    "    else:\n",
    "        recall = overlap / len(ref_ngrams)\n",
    "\n",
    "    if precision + recall == 0:\n",
    "        f1_score = 0.0\n",
    "    else:\n",
    "        f1_score = 2 * precision * recall / (precision + recall)\n",
    "\n",
    "    return precision, recall, f1_score\n",
    "\n",
    "# BLEU 계산 함수\n",
    "def calculate_bleu(reference, candidate, max_n=4):\n",
    "    precisions = []\n",
    "    for n in range(1, max_n+1):\n",
    "        ref_ngrams = get_ngrams(reference, n)\n",
    "        cand_ngrams = get_ngrams(candidate, n)\n",
    "\n",
    "        ref_counter = Counter(ref_ngrams)\n",
    "        cand_counter = Counter(cand_ngrams)\n",
    "\n",
    "        overlap = sum((ref_counter & cand_counter).values())\n",
    "        precision = overlap / len(cand_ngrams) if len(cand_ngrams) > 0 else 0\n",
    "        precisions.append(precision)\n",
    "\n",
    "    # Geometric mean of the precisions\n",
    "    if all(p == 0 for p in precisions):\n",
    "        bleu_score = 0\n",
    "    else:\n",
    "        bleu_score = math.exp(sum([math.log(p) if p > 0 else -999999 for p in precisions]) / max_n)\n",
    "\n",
    "    # Brevity Penalty\n",
    "    ref_len = len(reference)\n",
    "    cand_len = len(candidate)\n",
    "    brevity_penalty = math.exp(1 - ref_len / cand_len) if cand_len < ref_len else 1\n",
    "\n",
    "    bleu_score *= brevity_penalty\n",
    "\n",
    "    return bleu_score\n",
    "# ROUGE-L 계산 (Longest Common Subsequence 기반)\n",
    "def lcs(X, Y):\n",
    "    m = len(X)\n",
    "    n = len(Y)\n",
    "    dp = [[0] * (n + 1) for i in range(m + 1)]\n",
    "\n",
    "    for i in range(1, m + 1):\n",
    "        for j in range(1, n + 1):\n",
    "            if X[i - 1] == Y[j - 1]:\n",
    "                dp[i][j] = dp[i - 1][j - 1] + 1\n",
    "            else:\n",
    "                dp[i][j] = max(dp[i - 1][j], dp[i][j - 1])\n",
    "\n",
    "    return dp[m][n]"
   ]
  },
  {
   "cell_type": "markdown",
   "metadata": {
    "id": "ZtGxxQiBi3mx"
   },
   "source": [
    "#3. 점수 계산해보기"
   ]
  },
  {
   "cell_type": "code",
   "execution_count": 3,
   "metadata": {
    "colab": {
     "base_uri": "https://localhost:8080/"
    },
    "id": "nhJ3FHEAiXvt",
    "outputId": "48e76c28-9631-4d15-e4c9-fb3563ad48b1"
   },
   "outputs": [
    {
     "name": "stdout",
     "output_type": "stream",
     "text": [
      "문장 1 형태소 분석 결과:  ['고양이', '가', '나무', '위', '로', '올라가', '었', '다', '.']\n",
      "문장 2 형태소 분석 결과:  ['나무', '위', '로', '고양이', '가', '올라가', '었', '다', '.']\n",
      "ROUGE-1 -> Precision: 1.0, Recall: 1.0, F1: 1.0\n",
      "ROUGE-2 -> Precision: 0.75, Recall: 0.75, F1: 0.75\n",
      "ROUGE-L -> Precision: 0.7777777777777778, Recall: 0.7777777777777778, F1: 0.7777777777777778\n",
      "BLEU -> Score: 0.48109772909788073\n"
     ]
    }
   ],
   "source": [
    "# 형태소 분석 결과 생성\n",
    "reference = \"고양이가 나무 위로 올라갔다.\"\n",
    "candidate = \"나무 위로 고양이가 올라갔다.\"\n",
    "\n",
    "reference_tokens = kkma.morphs(reference)\n",
    "candidate_tokens = kkma.morphs(candidate)\n",
    "print(\"문장 1 형태소 분석 결과: \", reference_tokens)\n",
    "print(\"문장 2 형태소 분석 결과: \", candidate_tokens)\n",
    "# ROUGE-1 계산\n",
    "precision_rouge1, recall_rouge1, f1_rouge1 = calculate_rouge(reference_tokens, candidate_tokens, n=1)\n",
    "print(f\"ROUGE-1 -> Precision: {precision_rouge1}, Recall: {recall_rouge1}, F1: {f1_rouge1}\")\n",
    "\n",
    "# ROUGE-2 계산\n",
    "precision_rouge2, recall_rouge2, f1_rouge2 = calculate_rouge(reference_tokens, candidate_tokens, n=2)\n",
    "print(f\"ROUGE-2 -> Precision: {precision_rouge2}, Recall: {recall_rouge2}, F1: {f1_rouge2}\")\n",
    "\n",
    "\n",
    "lcs_length = lcs(reference_tokens, candidate_tokens)\n",
    "precision_rougeL = lcs_length / len(candidate_tokens) if len(candidate_tokens) > 0 else 0\n",
    "recall_rougeL = lcs_length / len(reference_tokens) if len(reference_tokens) > 0 else 0\n",
    "f1_rougeL = 2 * precision_rougeL * recall_rougeL / (precision_rougeL + recall_rougeL) if precision_rougeL + recall_rougeL > 0 else 0\n",
    "\n",
    "print(f\"ROUGE-L -> Precision: {precision_rougeL}, Recall: {recall_rougeL}, F1: {f1_rougeL}\")\n",
    "\n",
    "# BLEU 계산\n",
    "bleu_score = calculate_bleu(reference_tokens, candidate_tokens, max_n=4)\n",
    "print(f\"BLEU -> Score: {bleu_score}\")"
   ]
  }
 ],
 "metadata": {
  "colab": {
   "provenance": []
  },
  "kernelspec": {
   "display_name": "PyTorch 2.2 (NGC 23.11/Python 3.10) on Backend.AI",
   "language": "python",
   "name": "python3"
  },
  "language_info": {
   "codemirror_mode": {
    "name": "ipython",
    "version": 3
   },
   "file_extension": ".py",
   "mimetype": "text/x-python",
   "name": "python",
   "nbconvert_exporter": "python",
   "pygments_lexer": "ipython3",
   "version": "3.10.12"
  }
 },
 "nbformat": 4,
 "nbformat_minor": 1
}
