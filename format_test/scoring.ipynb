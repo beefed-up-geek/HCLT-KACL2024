{
 "cells": [
  {
   "cell_type": "markdown",
   "metadata": {
    "id": "dN0MCpFNiv2v"
   },
   "source": [
    "#1. 필요한 라이브러리 임포트"
   ]
  },
  {
   "cell_type": "code",
   "execution_count": null,
   "metadata": {
    "colab": {
     "base_uri": "https://localhost:8080/"
    },
    "id": "f_vQDKu3c_TC",
    "outputId": "b213e5f5-0001-40d5-9e5d-9f49c04e56a4"
   },
   "outputs": [],
   "source": [
    "# KoNLPy와 Kkma 설치\n",
    "!pip install konlpy\n",
    "\n",
    "# Java 설치 (KoNLPy에서 Kkma를 사용하기 위해 필요)\n",
    "!apt-get install -y openjdk-11-jdk\n",
    "\n",
    "# JPype1 설치 (KoNLPy가 Java와 상호작용하기 위해 필요)\n",
    "!pip install jpype1\n",
    "\n",
    "# KoNLPy에서 필요한 추가 파일 설치\n",
    "!apt-get install -y curl\n",
    "!bash <(curl -s https://raw.githubusercontent.com/konlpy/konlpy/master/scripts/mecab.sh)"
   ]
  },
  {
   "cell_type": "markdown",
   "metadata": {
    "id": "wiASn67lizai"
   },
   "source": [
    "#2. 점수 계산 함수 구현"
   ]
  },
  {
   "cell_type": "code",
   "execution_count": 1,
   "metadata": {
    "colab": {
     "base_uri": "https://localhost:8080/"
    },
    "id": "hqJAHnVIdIn0",
    "outputId": "47006556-d49e-422d-dab1-006119e3a251"
   },
   "outputs": [],
   "source": [
    "from konlpy.tag import Kkma\n",
    "from collections import Counter\n",
    "import math\n",
    "\n",
    "# Kkma 형태소 분석기 생성\n",
    "kkma = Kkma()\n",
    "\n",
    "# n-gram 생성 함수\n",
    "def get_ngrams(tokens, n):\n",
    "    return [tuple(tokens[i:i+n]) for i in range(len(tokens)-n+1)]\n",
    "\n",
    "# ROUGE 계산 함수\n",
    "def calculate_rouge(reference, candidate, n=1):\n",
    "    # n-gram 생성\n",
    "    ref_ngrams = get_ngrams(reference, n)\n",
    "    cand_ngrams = get_ngrams(candidate, n)\n",
    "\n",
    "    # n-gram 카운트\n",
    "    ref_counter = Counter(ref_ngrams)\n",
    "    cand_counter = Counter(cand_ngrams)\n",
    "\n",
    "    # 교집합 개수\n",
    "    overlap = sum((ref_counter & cand_counter).values())\n",
    "\n",
    "    # Precision, Recall, F1 계산\n",
    "    if len(cand_ngrams) == 0:\n",
    "        precision = 0.0\n",
    "    else:\n",
    "        precision = overlap / len(cand_ngrams)\n",
    "\n",
    "    if len(ref_ngrams) == 0:\n",
    "        recall = 0.0\n",
    "    else:\n",
    "        recall = overlap / len(ref_ngrams)\n",
    "\n",
    "    if precision + recall == 0:\n",
    "        f1_score = 0.0\n",
    "    else:\n",
    "        f1_score = 2 * precision * recall / (precision + recall)\n",
    "\n",
    "    return precision, recall, f1_score\n",
    "\n",
    "# BLEU 계산 함수\n",
    "def calculate_bleu(reference, candidate, max_n=4):\n",
    "    precisions = []\n",
    "    for n in range(1, max_n+1):\n",
    "        ref_ngrams = get_ngrams(reference, n)\n",
    "        cand_ngrams = get_ngrams(candidate, n)\n",
    "\n",
    "        ref_counter = Counter(ref_ngrams)\n",
    "        cand_counter = Counter(cand_ngrams)\n",
    "\n",
    "        overlap = sum((ref_counter & cand_counter).values())\n",
    "        precision = overlap / len(cand_ngrams) if len(cand_ngrams) > 0 else 0\n",
    "        precisions.append(precision)\n",
    "\n",
    "    # Geometric mean of the precisions\n",
    "    if all(p == 0 for p in precisions):\n",
    "        bleu_score = 0\n",
    "    else:\n",
    "        bleu_score = math.exp(sum([math.log(p) if p > 0 else -999999 for p in precisions]) / max_n)\n",
    "\n",
    "    # Brevity Penalty\n",
    "    ref_len = len(reference)\n",
    "    cand_len = len(candidate)\n",
    "    brevity_penalty = math.exp(1 - ref_len / cand_len) if cand_len < ref_len else 1\n",
    "\n",
    "    bleu_score *= brevity_penalty\n",
    "\n",
    "    return bleu_score\n",
    "# ROUGE-L 계산 (Longest Common Subsequence 기반)\n",
    "def lcs(X, Y):\n",
    "    m = len(X)\n",
    "    n = len(Y)\n",
    "    dp = [[0] * (n + 1) for i in range(m + 1)]\n",
    "\n",
    "    for i in range(1, m + 1):\n",
    "        for j in range(1, n + 1):\n",
    "            if X[i - 1] == Y[j - 1]:\n",
    "                dp[i][j] = dp[i - 1][j - 1] + 1\n",
    "            else:\n",
    "                dp[i][j] = max(dp[i - 1][j], dp[i][j - 1])\n",
    "\n",
    "    return dp[m][n]"
   ]
  },
  {
   "cell_type": "markdown",
   "metadata": {
    "id": "ZtGxxQiBi3mx"
   },
   "source": [
    "#3. 점수 계산해보기"
   ]
  },
  {
   "cell_type": "code",
   "execution_count": 2,
   "metadata": {
    "colab": {
     "base_uri": "https://localhost:8080/"
    },
    "id": "nhJ3FHEAiXvt",
    "outputId": "48e76c28-9631-4d15-e4c9-fb3563ad48b1"
   },
   "outputs": [
    {
     "name": "stdout",
     "output_type": "stream",
     "text": [
      "문장 1 형태소 분석 결과:  ['고양이', '가', '나무', '위', '로', '올라가', '었', '다', '.']\n",
      "문장 2 형태소 분석 결과:  ['나무', '위', '로', '고양이', '가', '올라가', '었', '다', '.']\n",
      "ROUGE-1 -> Precision: 1.0, Recall: 1.0, F1: 1.0\n",
      "ROUGE-2 -> Precision: 0.75, Recall: 0.75, F1: 0.75\n",
      "ROUGE-L -> Precision: 0.7777777777777778, Recall: 0.7777777777777778, F1: 0.7777777777777778\n",
      "BLEU -> Score: 0.48109772909788073\n"
     ]
    }
   ],
   "source": [
    "# 형태소 분석 결과 생성\n",
    "reference = \"고양이가 나무 위로 올라갔다.\"\n",
    "candidate = \"나무 위로 고양이가 올라갔다.\"\n",
    "\n",
    "reference_tokens = kkma.morphs(reference)\n",
    "candidate_tokens = kkma.morphs(candidate)\n",
    "print(\"문장 1 형태소 분석 결과: \", reference_tokens)\n",
    "print(\"문장 2 형태소 분석 결과: \", candidate_tokens)\n",
    "# ROUGE-1 계산\n",
    "precision_rouge1, recall_rouge1, f1_rouge1 = calculate_rouge(reference_tokens, candidate_tokens, n=1)\n",
    "print(f\"ROUGE-1 -> Precision: {precision_rouge1}, Recall: {recall_rouge1}, F1: {f1_rouge1}\")\n",
    "\n",
    "# ROUGE-2 계산\n",
    "precision_rouge2, recall_rouge2, f1_rouge2 = calculate_rouge(reference_tokens, candidate_tokens, n=2)\n",
    "print(f\"ROUGE-2 -> Precision: {precision_rouge2}, Recall: {recall_rouge2}, F1: {f1_rouge2}\")\n",
    "\n",
    "\n",
    "lcs_length = lcs(reference_tokens, candidate_tokens)\n",
    "precision_rougeL = lcs_length / len(candidate_tokens) if len(candidate_tokens) > 0 else 0\n",
    "recall_rougeL = lcs_length / len(reference_tokens) if len(reference_tokens) > 0 else 0\n",
    "f1_rougeL = 2 * precision_rougeL * recall_rougeL / (precision_rougeL + recall_rougeL) if precision_rougeL + recall_rougeL > 0 else 0\n",
    "\n",
    "print(f\"ROUGE-L -> Precision: {precision_rougeL}, Recall: {recall_rougeL}, F1: {f1_rougeL}\")\n",
    "\n",
    "# BLEU 계산\n",
    "bleu_score = calculate_bleu(reference_tokens, candidate_tokens, max_n=4)\n",
    "print(f\"BLEU -> Score: {bleu_score}\")"
   ]
  },
  {
   "cell_type": "code",
   "execution_count": 3,
   "metadata": {},
   "outputs": [],
   "source": [
    "\n",
    "def score(reference, candidate):\n",
    "\n",
    "    reference_tokens = kkma.morphs(reference)\n",
    "    candidate_tokens = kkma.morphs(candidate)\n",
    "#     print(\"문장 1 형태소 분석 결과: \", reference_tokens)\n",
    "#     print(\"문장 2 형태소 분석 결과: \", candidate_tokens)\n",
    "    # ROUGE-1 계산\n",
    "    precision_rouge1, recall_rouge1, f1_rouge1 = calculate_rouge(reference_tokens, candidate_tokens, n=1)\n",
    "#     print(f\"ROUGE-1 -> Precision: {precision_rouge1}, Recall: {recall_rouge1}, F1: {f1_rouge1}\")\n",
    "\n",
    "    # ROUGE-2 계산\n",
    "    precision_rouge2, recall_rouge2, f1_rouge2 = calculate_rouge(reference_tokens, candidate_tokens, n=2)\n",
    "#     print(f\"ROUGE-2 -> Precision: {precision_rouge2}, Recall: {recall_rouge2}, F1: {f1_rouge2}\")\n",
    "\n",
    "\n",
    "    lcs_length = lcs(reference_tokens, candidate_tokens)\n",
    "    precision_rougeL = lcs_length / len(candidate_tokens) if len(candidate_tokens) > 0 else 0\n",
    "    recall_rougeL = lcs_length / len(reference_tokens) if len(reference_tokens) > 0 else 0\n",
    "    f1_rougeL = 2 * precision_rougeL * recall_rougeL / (precision_rougeL + recall_rougeL) if precision_rougeL + recall_rougeL > 0 else 0\n",
    "\n",
    "#     print(f\"ROUGE-L -> Precision: {precision_rougeL}, Recall: {recall_rougeL}, F1: {f1_rougeL}\")\n",
    "\n",
    "    # BLEU 계산\n",
    "    bleu_score = calculate_bleu(reference_tokens, candidate_tokens, max_n=4)\n",
    "#     print(f\"BLEU -> Score: {bleu_score}\")\n",
    "    return f1_rouge1, f1_rougeL, bleu_score"
   ]
  },
  {
   "cell_type": "markdown",
   "metadata": {},
   "source": [
    "# format 별 인식"
   ]
  },
  {
   "cell_type": "code",
   "execution_count": 14,
   "metadata": {},
   "outputs": [],
   "source": [
    "import json\n",
    "\n",
    "# file_path = ['trans_html.jsonl_inference2.jsonl','trans_xml.jsonl_inference2.jsonl','trans_mkdw1.jsonl_inference2.jsonl']#,'trans_mkdw2.jsonl_inference.jsonl']\n",
    "file_path = ['trans_xml.jsonl_inference_finetuned.jsonl']\n",
    "all_json = []\n",
    "\n",
    "for path in file_path:\n",
    "    with open(path, 'r', encoding='utf-8') as file:  # Use 'path' instead of 'file_path'\n",
    "        jsonl_data = [json.loads(line) for line in file]\n",
    "        all_json.append(jsonl_data)"
   ]
  },
  {
   "cell_type": "code",
   "execution_count": 27,
   "metadata": {
    "scrolled": true
   },
   "outputs": [
    {
     "name": "stdout",
     "output_type": "stream",
     "text": [
      "[|system|]You are EXAONE model from LG AI Research, a helpful assistant.[|endofturn|]\n",
      "[|user|]다음 document를 활용하여 표의 highlighted 부분을 설명해주세요. document: {'table_title': '2019년도 국가지방협력 특별교부세 지역사랑상품권 발행지원 현황', 'highlighted_cells': [[0, 1], [1, 1], [3, 1]], 'table_xml': '<table><row><value>구 분</value><is_header>True</is_header><col>0</col><colspan>1</colspan><row>0</row><rowspan>1</rowspan></row><row><value>교부 지자체</value><is_header>True</is_header><col>1</col><colspan>1</colspan><row>0</row><rowspan>1</rowspan></row><row><value>지원비율</value><is_header>True</is_header><col>2</col><colspan>1</colspan><row>0</row><rowspan>1</rowspan></row><row><value>지원액</value><is_header>True</is_header><col>3</col><colspan>1</colspan><row>0</row><rowspan>1</rowspan></row><row><value>보통교부세 교부단체</value><is_header>False</is_header><col>0</col><colspan>1</colspan><row>1</row><rowspan>1</rowspan></row><row><value>인천 본청 등 132개</value><is_header>False</is_header><col>1</col><colspan>1</colspan><row>1</row><rowspan>1</rowspan></row><row><value>2%</value><is_header>False</is_header><col>2</col><colspan>1</colspan><row>1</row><rowspan>1</rowspan></row><row><value>32,795</value><is_header>False</is_header><col>3</col><colspan>1</colspan><row>1</row><rowspan>1</rowspan></row><row><value>보통교부세 불교부단체</value><is_header>False</is_header><col>0</col><colspan>1</colspan><row>2</row><rowspan>1</rowspan></row><row><value>경기 성남, 화성, 수원, 용인</value><is_header>False</is_header><col>1</col><colspan>1</colspan><row>2</row><rowspan>1</rowspan></row><row><value>2%</value><is_header>False</is_header><col>2</col><colspan>1</colspan><row>2</row><rowspan>1</rowspan></row><row><value>2,277</value><is_header>False</is_header><col>3</col><colspan>1</colspan><row>2</row><rowspan>1</rowspan></row><row><value>합 계</value><is_header>False</is_header><col>0</col><colspan>1</colspan><row>3</row><rowspan>1</rowspan></row><row><value>136개</value><is_header>False</is_header><col>1</col><colspan>1</colspan><row>3</row><rowspan>1</rowspan></row><row><value>-</value><is_header>False</is_header><col>2</col><colspan>1</colspan><row>3</row><rowspan>1</rowspan></row><row><value>35,072</value><is_header>False</is_header><col>3</col><colspan>1</colspan><row>3</row><rowspan>1</rowspan></row></table>'}\n",
      "[|assistant|]문서에 제공된 테이블과 하이라이트된 셀을 설명드리겠습니다.\n",
      "\n",
      "1. **표 제목**: '2019년도 국가지방협력 특별교부세 지역사랑상품권 발행지원 현황'\n",
      "\n",
      "2. **하이라이트된 셀**:\n",
      "   - [0, 1]: 첫 번째 행의 두 번째 열 (구 분)\n",
      "   - [1, 1]: 두 번째 행의 두 번째 열 (교부 지자체)\n",
      "   - [3, 1]: 네 번째 행의 두 번째 열 (지원액)\n",
      "\n",
      "3. **설명**:\n",
      "   - **[0, 1]**: 이 셀에는 \"구 분\"이라는 제목이 있습니다. 이는 테이블의 첫 번째 열에 해당하며, 각 행의 주제를 나타냅니다.\n",
      "   - **[1, 1]**: 이 셀에는 \"교부 지자체\"라는 제목이 있습니다. 이는 두 번째 열에 해당하며, 지원을 받는 지자체의 이름을 나타냅니다.\n",
      "   - **[3, 1]**: 이 셀에는 \"지원액\"이라는 제목이 있습니다. 이는 네 번째 열에 해당하며, 각 지자체에 지원된 금액을 나타냅니다.\n",
      "\n",
      "이 테이블은 2019년도에 국가지방협력 특별교부세를 통해 지역사랑상품권을 발행한 지자체들에 대한 지원 현황을 보여줍니다. 각 행은 보통교부세 교부단체와 불교부단체를 구분하고 있으며, 지원 비율과 지원액을 포함하고 있습니다.[|endofturn|]\n"
     ]
    }
   ],
   "source": [
    "text = all_json[0][0]\n",
    "print(all_json[0][2])"
   ]
  },
  {
   "cell_type": "code",
   "execution_count": 19,
   "metadata": {},
   "outputs": [
    {
     "name": "stdout",
     "output_type": "stream",
     "text": [
      "이 표는 영국의 우회이익세(DPT) 과세 실적을 연도별로 보여주고 있으며, 각 연도의 신고 건수, 당초 예상 세수, 실제 징수된 총 세수를 비교하고 있습니다.\n"
     ]
    }
   ],
   "source": [
    "import re\n",
    "# 정규식을 사용하여 '[|assistant|]'와 '[|endofturn|]' 사이의 텍스트 추출\n",
    "pattern = r\"\\[\\|assistant\\|\\](.*?)\\[\\|endofturn\\|\\]\"\n",
    "matches = re.search(pattern, text, re.DOTALL)\n",
    "\n",
    "# 추출된 텍스트 출력\n",
    "extracted_text = matches.group(1).strip() if matches else None\n",
    "print(extracted_text.split('\\n')[-1])"
   ]
  },
  {
   "cell_type": "code",
   "execution_count": 24,
   "metadata": {},
   "outputs": [],
   "source": [
    "import json\n",
    "\n",
    "file_path = ['trans_html.jsonl','trans_xml.jsonl','trans_mkdw1.jsonl','trans_mkdw2.jsonl']\n",
    "all_target = []\n",
    "\n",
    "for path in file_path:\n",
    "    with open(path, 'r', encoding='utf-8') as file:  # Use 'path' instead of 'file_path'\n",
    "        jsonl_data = [json.loads(line) for line in file]\n",
    "        all_target.append(jsonl_data)"
   ]
  },
  {
   "cell_type": "code",
   "execution_count": 25,
   "metadata": {},
   "outputs": [
    {
     "data": {
      "text/plain": [
       "'영국의 우회이익세(DPT) 과세실적을 살펴보면 2015/2016년 31만 파운드에서 2017/2018년에는 388만 파운드로 10배 이상 증가한 것으로 나타났다.'"
      ]
     },
     "execution_count": 25,
     "metadata": {},
     "output_type": "execute_result"
    }
   ],
   "source": [
    "all_target[0][0]['output']"
   ]
  },
  {
   "cell_type": "code",
   "execution_count": 26,
   "metadata": {},
   "outputs": [
    {
     "data": {
      "text/plain": [
       "(0.0963455149501661, 0.05647840531561462, 0.02158291185419082)"
      ]
     },
     "execution_count": 26,
     "metadata": {},
     "output_type": "execute_result"
    }
   ],
   "source": [
    "score(all_target[0][0]['output'], extracted_text)"
   ]
  },
  {
   "cell_type": "markdown",
   "metadata": {},
   "source": [
    "# 전체"
   ]
  },
  {
   "cell_type": "code",
   "execution_count": 11,
   "metadata": {},
   "outputs": [
    {
     "name": "stdout",
     "output_type": "stream",
     "text": [
      "비수도권의 전반적 평가가 6.78점으로 높고, 농어촌 생활권에서 6.82점으로 높은 개선 수준을 나타냈다., 14\\�>\\n>\\n>\\n>\\n>\\n>\\n>\\n\\n>\\n>\\n>\\n>\\n>\\n>\\n>\\>\\>\\>\\>>\\>\\>\\>>\\�>>\\>\\>>>\\>>>>>>>>>>>>>>\\비즈>\\�>>>>>>>>>>>>>>>>>>>>\\�>>>>>>>>, 10>>>>, 10>>>>>>>>>>>>>>, 12>, 1, 1>>, 22>>, 1>>, 1>>, 1, 20>>>>>>>>>>>>\\�>>>>>>>>>>>>>, 1>>>, 2\\>>>(1>>>>>>>>>>>>>>>>>>>>>>>>>>>>>>>>>>>>>{\\산이\\�\\�>>>>>>>\\1>\\�산규규규규>>\\�>\\�>>>\\�>\\�\\1, 1, 1, 1, 1, 1\\\\\\규규규규\\�\\�\\�\\\\1, 1, 1, 1, 이는, 규제규규규규규규표규규규규규규, 1, 3, 규제가 1, 이는,, 과학입니다. 1, 규규, 1, 1, 1, 규규규, 1>, 1, 1, 1, 1, 1규규규규 1 1규규규규 1, 규   규규규규  규규   규규규 1 1, 규규 , 규규규규규규규규규규규규규규규규규규규규규규규규규규규규 규규규규규규를규규규규규규규1표규규규규규규세포규규규규,1세포세포1,1>>>>>>\\규규규규규규규규규규규규규규규규규규규규규규규규규세포>, 1, 1 1>>>>>>>11>>>>>>>1>>>>>>>>>>>>>>>>>>>\\\\1>>>>>>>>>>1111규1>>11규규규1>,1입력규1>규규10\\표규1000 1>>10   1 11 1>1   (1 1규규1, 0 00 1규규1000 1규규규성1,1,1규111 1 00(100ع규10표규1010>10001표100011100110000110표표1010표표10,101000\\00>0>0>00010>>0000규규100규규규규(0성규규규성규성0010000000000101000001010101010001001001101000001 101 00010 0 0 000000000000000010 0 00100000000000010000000101010100010000000000000 00000000000100010,0,1111011110 0 0100 0 0 0 0 001 0010 0 01100000000 0000000 01 011 00 : error\n"
     ]
    }
   ],
   "source": [
    "scores = []\n",
    "for pre_json, tar_json in zip(all_json, all_target):\n",
    "    temp = []\n",
    "    for pre_row, tar_row in zip(pre_json, tar_json):\n",
    "        pattern = \"[|assistant|]\"\n",
    "        extracted_prediction = pre_row.split(pattern)[-1].split('\\n')[-1]\n",
    "        extracted_target = tar_row['output']\n",
    "        try:\n",
    "            rouge1_f1, rougeN_f1, bleu = score(extracted_target,extracted_prediction)\n",
    "            temp.append((rouge1_f1, rougeN_f1, bleu))\n",
    "        except:\n",
    "            print(f\"{extracted_target}, {extracted_prediction} : error\")\n",
    "    scores.append(temp)"
   ]
  },
  {
   "cell_type": "code",
   "execution_count": 12,
   "metadata": {},
   "outputs": [],
   "source": [
    "mean_score = []\n",
    "for score_ in scores:\n",
    "    col1, col2, col3 = zip(*score_)\n",
    "    mean_score.append([sum(col1)/len(col1), sum(col2)/len(col2), sum(col3)/len(col3)])"
   ]
  },
  {
   "cell_type": "code",
   "execution_count": 13,
   "metadata": {},
   "outputs": [
    {
     "data": {
      "text/plain": [
       "[[0.3070855247264256, 0.23308296678703952, 0.05906915013695125],\n",
       " [0.2554960368523674, 0.19943523499089083, 0.04781624063796962],\n",
       " [0.35091652821807645, 0.27148195871828035, 0.07515620335621685]]"
      ]
     },
     "execution_count": 13,
     "metadata": {},
     "output_type": "execute_result"
    }
   ],
   "source": [
    "mean_score"
   ]
  },
  {
   "cell_type": "code",
   "execution_count": null,
   "metadata": {},
   "outputs": [],
   "source": []
  },
  {
   "cell_type": "code",
   "execution_count": null,
   "metadata": {},
   "outputs": [],
   "source": []
  },
  {
   "cell_type": "code",
   "execution_count": null,
   "metadata": {},
   "outputs": [],
   "source": []
  },
  {
   "cell_type": "code",
   "execution_count": null,
   "metadata": {},
   "outputs": [],
   "source": [
    "['trans_html.jsonl','trans_xml.jsonl','trans_mkdw1.jsonl','trans_mkdw2.jsonl']"
   ]
  },
  {
   "cell_type": "markdown",
   "metadata": {},
   "source": [
    "### 출력 원본 score\n",
    "- html: [0.12738789711537324, 0.09238321435613023, 0.015037952380729634],\n",
    "- xml: [0.10157205956595884, 0.07564866534694506, 0.010214911541048937],\n",
    "- mkdw1: [0.1340286287798465, 0.09848943221124995, 0.016972311369042585],\n",
    "- mkdw2: [0.1375376548128706, 0.09993007429514748, 0.016385246340009194]\n",
    "\n",
    "### 약간 포매팅 후 score\n",
    "- html: [0.24166040595835606, 0.1777022497369232, 0.027341897428892665],\n",
    "- xml: [0.18187266009261158, 0.13595813184081018, 0.017700276732859184],\n",
    "- mkdw1: [0.24081715201135784, 0.17784569718924068, 0.02471643600928995],\n",
    "- mkdw2: [0.23446849290218383, 0.17165369107269104, 0.022243427365346933]"
   ]
  },
  {
   "cell_type": "code",
   "execution_count": null,
   "metadata": {},
   "outputs": [],
   "source": []
  }
 ],
 "metadata": {
  "colab": {
   "provenance": []
  },
  "kernelspec": {
   "display_name": "PyTorch 2.2 (NGC 23.11/Python 3.10) on Backend.AI",
   "language": "python",
   "name": "python3"
  },
  "language_info": {
   "codemirror_mode": {
    "name": "ipython",
    "version": 3
   },
   "file_extension": ".py",
   "mimetype": "text/x-python",
   "name": "python",
   "nbconvert_exporter": "python",
   "pygments_lexer": "ipython3",
   "version": "3.10.12"
  }
 },
 "nbformat": 4,
 "nbformat_minor": 1
}
