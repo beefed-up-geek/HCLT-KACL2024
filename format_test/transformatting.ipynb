{
 "cells": [
  {
   "cell_type": "code",
   "execution_count": 1,
   "id": "72995e78",
   "metadata": {},
   "outputs": [],
   "source": [
    "import json\n",
    "\n",
    "def read_jsonl_file(file_path):\n",
    "    data = []\n",
    "    with open(file_path, 'r', encoding='utf-8') as file:\n",
    "        for line in file:\n",
    "            data.append(json.loads(line))\n",
    "    return data\n",
    "\n",
    "file_path = '../dataset/dev_full.jsonl'\n",
    "\n",
    "data = read_jsonl_file(file_path)"
   ]
  },
  {
   "cell_type": "code",
   "execution_count": 4,
   "id": "5fc7be6d",
   "metadata": {},
   "outputs": [
    {
     "data": {
      "text/plain": [
       "{'input': {'metadata': {'title': '4차 산업혁명에 따른 조세환경 변화와 정책 과제',\n",
       "   'table_title': '영국의 우회이익세(DPT) 과세실적',\n",
       "   'date': '2020-06-09',\n",
       "   'publisher': '국회예산정책처',\n",
       "   'highlighted_cells': [[0, 3], [1, 3], [3, 3]]},\n",
       "  'table_xml': '<table><row><value /><is_header>True</is_header><col>0</col><colspan>1</colspan><row>0</row><rowspan>1</rowspan></row><row><value>2015/16</value><is_header>True</is_header><col>1</col><colspan>1</colspan><row>0</row><rowspan>1</rowspan></row><row><value>2016/17</value><is_header>True</is_header><col>2</col><colspan>1</colspan><row>0</row><rowspan>1</rowspan></row><row><value>2017/18</value><is_header>True</is_header><col>3</col><colspan>1</colspan><row>0</row><rowspan>1</rowspan></row><row><value>해외이전소득신고건수(건)1)</value><is_header>False</is_header><col>0</col><colspan>1</colspan><row>1</row><rowspan>1</rowspan></row><row><value>48</value><is_header>False</is_header><col>1</col><colspan>1</colspan><row>1</row><rowspan>1</rowspan></row><row><value>145</value><is_header>False</is_header><col>2</col><colspan>1</colspan><row>1</row><rowspan>1</rowspan></row><row><value>220</value><is_header>False</is_header><col>3</col><colspan>1</colspan><row>1</row><rowspan>1</rowspan></row><row><value>당초예상세수(백만파운드)</value><is_header>False</is_header><col>0</col><colspan>1</colspan><row>2</row><rowspan>1</rowspan></row><row><value>25</value><is_header>False</is_header><col>1</col><colspan>1</colspan><row>2</row><rowspan>1</rowspan></row><row><value>270</value><is_header>False</is_header><col>2</col><colspan>1</colspan><row>2</row><rowspan>1</rowspan></row><row><value>360</value><is_header>False</is_header><col>3</col><colspan>1</colspan><row>2</row><rowspan>1</rowspan></row><row><value>총세수(백만파운드)2)</value><is_header>False</is_header><col>0</col><colspan>1</colspan><row>3</row><rowspan>1</rowspan></row><row><value>31</value><is_header>False</is_header><col>1</col><colspan>1</colspan><row>3</row><rowspan>1</rowspan></row><row><value>281</value><is_header>False</is_header><col>2</col><colspan>1</colspan><row>3</row><rowspan>1</rowspan></row><row><value>388</value><is_header>False</is_header><col>3</col><colspan>1</colspan><row>3</row><rowspan>1</rowspan></row></table>'},\n",
       " 'output': '영국의 우회이익세(DPT) 과세실적을 살펴보면 2015/2016년 31만 파운드에서 2017/2018년에는 388만 파운드로 10배 이상 증가한 것으로 나타났다.'}"
      ]
     },
     "execution_count": 4,
     "metadata": {},
     "output_type": "execute_result"
    }
   ],
   "source": [
    "data[0]"
   ]
  },
  {
   "cell_type": "markdown",
   "id": "507b7382",
   "metadata": {},
   "source": [
    "# XML"
   ]
  },
  {
   "cell_type": "code",
   "execution_count": 50,
   "id": "32a5690f",
   "metadata": {},
   "outputs": [],
   "source": [
    "ex = data[0]"
   ]
  },
  {
   "cell_type": "code",
   "execution_count": 51,
   "id": "36cbea7e",
   "metadata": {},
   "outputs": [],
   "source": [
    "title = ex['input']['metadata']['table_title']\n",
    "highlighted_cells = ex['input']['metadata']['highlighted_cells']\n",
    "table = ex['input']['table_xml']\n",
    "target = ex['output']"
   ]
  },
  {
   "cell_type": "code",
   "execution_count": 52,
   "id": "e9727d3a",
   "metadata": {},
   "outputs": [
    {
     "name": "stdout",
     "output_type": "stream",
     "text": [
      "Table Title: 영국의 우회이익세(DPT) 과세실적\n",
      "\n",
      "Highlighted Cells: [[0, 3], [1, 3], [3, 3]]\n",
      "\n",
      "Table XML: <table><row><value /><is_header>True</is_header><col>0</col><colspan>1</colspan><row>0</row><rowspan>1</rowspan></row><row><value>2015/16</value><is_header>True</is_header><col>1</col><colspan>1</colspan><row>0</row><rowspan>1</rowspan></row><row><value>2016/17</value><is_header>True</is_header><col>2</col><colspan>1</colspan><row>0</row><rowspan>1</rowspan></row><row><value>2017/18</value><is_header>True</is_header><col>3</col><colspan>1</colspan><row>0</row><rowspan>1</rowspan></row><row><value>해외이전소득신고건수(건)1)</value><is_header>False</is_header><col>0</col><colspan>1</colspan><row>1</row><rowspan>1</rowspan></row><row><value>48</value><is_header>False</is_header><col>1</col><colspan>1</colspan><row>1</row><rowspan>1</rowspan></row><row><value>145</value><is_header>False</is_header><col>2</col><colspan>1</colspan><row>1</row><rowspan>1</rowspan></row><row><value>220</value><is_header>False</is_header><col>3</col><colspan>1</colspan><row>1</row><rowspan>1</rowspan></row><row><value>당초예상세수(백만파운드)</value><is_header>False</is_header><col>0</col><colspan>1</colspan><row>2</row><rowspan>1</rowspan></row><row><value>25</value><is_header>False</is_header><col>1</col><colspan>1</colspan><row>2</row><rowspan>1</rowspan></row><row><value>270</value><is_header>False</is_header><col>2</col><colspan>1</colspan><row>2</row><rowspan>1</rowspan></row><row><value>360</value><is_header>False</is_header><col>3</col><colspan>1</colspan><row>2</row><rowspan>1</rowspan></row><row><value>총세수(백만파운드)2)</value><is_header>False</is_header><col>0</col><colspan>1</colspan><row>3</row><rowspan>1</rowspan></row><row><value>31</value><is_header>False</is_header><col>1</col><colspan>1</colspan><row>3</row><rowspan>1</rowspan></row><row><value>281</value><is_header>False</is_header><col>2</col><colspan>1</colspan><row>3</row><rowspan>1</rowspan></row><row><value>388</value><is_header>False</is_header><col>3</col><colspan>1</colspan><row>3</row><rowspan>1</rowspan></row></table>\n",
      "\n",
      "Target Output: 영국의 우회이익세(DPT) 과세실적을 살펴보면 2015/2016년 31만 파운드에서 2017/2018년에는 388만 파운드로 10배 이상 증가한 것으로 나타났다.\n"
     ]
    }
   ],
   "source": [
    "print(\"Table Title:\", title)\n",
    "print()\n",
    "print(\"Highlighted Cells:\", highlighted_cells)\n",
    "print()\n",
    "print(\"Table XML:\", table)\n",
    "print()\n",
    "print(\"Target Output:\", target)"
   ]
  },
  {
   "cell_type": "code",
   "execution_count": 53,
   "id": "78e30ecb",
   "metadata": {},
   "outputs": [
    {
     "data": {
      "text/plain": [
       "{'input': {'table_title': '영국의 우회이익세(DPT) 과세실적',\n",
       "  'highlighted_cells': [[0, 3], [1, 3], [3, 3]],\n",
       "  'table_xml': '<table><row><value /><is_header>True</is_header><col>0</col><colspan>1</colspan><row>0</row><rowspan>1</rowspan></row><row><value>2015/16</value><is_header>True</is_header><col>1</col><colspan>1</colspan><row>0</row><rowspan>1</rowspan></row><row><value>2016/17</value><is_header>True</is_header><col>2</col><colspan>1</colspan><row>0</row><rowspan>1</rowspan></row><row><value>2017/18</value><is_header>True</is_header><col>3</col><colspan>1</colspan><row>0</row><rowspan>1</rowspan></row><row><value>해외이전소득신고건수(건)1)</value><is_header>False</is_header><col>0</col><colspan>1</colspan><row>1</row><rowspan>1</rowspan></row><row><value>48</value><is_header>False</is_header><col>1</col><colspan>1</colspan><row>1</row><rowspan>1</rowspan></row><row><value>145</value><is_header>False</is_header><col>2</col><colspan>1</colspan><row>1</row><rowspan>1</rowspan></row><row><value>220</value><is_header>False</is_header><col>3</col><colspan>1</colspan><row>1</row><rowspan>1</rowspan></row><row><value>당초예상세수(백만파운드)</value><is_header>False</is_header><col>0</col><colspan>1</colspan><row>2</row><rowspan>1</rowspan></row><row><value>25</value><is_header>False</is_header><col>1</col><colspan>1</colspan><row>2</row><rowspan>1</rowspan></row><row><value>270</value><is_header>False</is_header><col>2</col><colspan>1</colspan><row>2</row><rowspan>1</rowspan></row><row><value>360</value><is_header>False</is_header><col>3</col><colspan>1</colspan><row>2</row><rowspan>1</rowspan></row><row><value>총세수(백만파운드)2)</value><is_header>False</is_header><col>0</col><colspan>1</colspan><row>3</row><rowspan>1</rowspan></row><row><value>31</value><is_header>False</is_header><col>1</col><colspan>1</colspan><row>3</row><rowspan>1</rowspan></row><row><value>281</value><is_header>False</is_header><col>2</col><colspan>1</colspan><row>3</row><rowspan>1</rowspan></row><row><value>388</value><is_header>False</is_header><col>3</col><colspan>1</colspan><row>3</row><rowspan>1</rowspan></row></table>'},\n",
       " 'output': '영국의 우회이익세(DPT) 과세실적을 살펴보면 2015/2016년 31만 파운드에서 2017/2018년에는 388만 파운드로 10배 이상 증가한 것으로 나타났다.'}"
      ]
     },
     "execution_count": 53,
     "metadata": {},
     "output_type": "execute_result"
    }
   ],
   "source": [
    "trans_ex = {\n",
    "    'input': {\n",
    "        'table_title': title,\n",
    "        'highlighted_cells': highlighted_cells,\n",
    "        'table_xml': table\n",
    "    },\n",
    "    'output': target\n",
    "}\n",
    "trans_ex"
   ]
  },
  {
   "cell_type": "code",
   "execution_count": 54,
   "id": "663c4a48",
   "metadata": {},
   "outputs": [],
   "source": [
    "trans_xml = []\n",
    "for d in data:\n",
    "    title = d['input']['metadata']['table_title']\n",
    "    highlighted_cells = d['input']['metadata']['highlighted_cells']\n",
    "    table = d['input']['table_xml']\n",
    "    target = d['output']\n",
    "    trans_xml.append({\n",
    "        'input': {\n",
    "            'table_title': title,\n",
    "            'highlighted_cells': highlighted_cells,\n",
    "            'table_xml': table\n",
    "        },\n",
    "        'output': target\n",
    "    })"
   ]
  },
  {
   "cell_type": "code",
   "execution_count": 55,
   "id": "fdd4a97a",
   "metadata": {},
   "outputs": [
    {
     "data": {
      "text/plain": [
       "{'input': {'table_title': '2019회계연도\\u2000관서운영경비\\u2000결산현황',\n",
       "  'highlighted_cells': [[5, 2], [6, 2]],\n",
       "  'table_xml': '<table><row><value>구분</value><is_header>True</is_header><col>0</col><colspan>1</colspan><row>0</row><rowspan>2</rowspan></row><row><value>예산액</value><is_header>True</is_header><col>1</col><colspan>2</colspan><row>0</row><rowspan>1</rowspan></row><row><value>예산현액</value><is_header>True</is_header><col>3</col><colspan>1</colspan><row>0</row><rowspan>2</rowspan></row><row><value>집행액</value><is_header>True</is_header><col>4</col><colspan>3</colspan><row>0</row><rowspan>1</rowspan></row><row><value>불용액</value><is_header>True</is_header><col>7</col><colspan>1</colspan><row>0</row><rowspan>2</rowspan></row><row><value>본예산</value><is_header>False</is_header><col>1</col><colspan>1</colspan><row>1</row><rowspan>1</rowspan></row><row><value>추경</value><is_header>False</is_header><col>2</col><colspan>1</colspan><row>1</row><rowspan>1</rowspan></row><row><value>계</value><is_header>False</is_header><col>4</col><colspan>1</colspan><row>1</row><rowspan>1</rowspan></row><row><value>일반지출</value><is_header>False</is_header><col>5</col><colspan>1</colspan><row>1</row><rowspan>1</rowspan></row><row><value>관서운영경비</value><is_header>False</is_header><col>6</col><colspan>1</colspan><row>1</row><rowspan>1</rowspan></row><row><value>총지출</value><is_header>False</is_header><col>0</col><colspan>1</colspan><row>2</row><rowspan>1</rowspan></row><row><value>343,572</value><is_header>False</is_header><col>1</col><colspan>1</colspan><row>2</row><rowspan>1</rowspan></row><row><value>343,572</value><is_header>False</is_header><col>2</col><colspan>1</colspan><row>2</row><rowspan>1</rowspan></row><row><value>348,378</value><is_header>False</is_header><col>3</col><colspan>1</colspan><row>2</row><rowspan>1</rowspan></row><row><value>328,719</value><is_header>False</is_header><col>4</col><colspan>1</colspan><row>2</row><rowspan>1</rowspan></row><row><value>278,474</value><is_header>False</is_header><col>5</col><colspan>1</colspan><row>2</row><rowspan>1</rowspan></row><row><value>50,245</value><is_header>False</is_header><col>6</col><colspan>1</colspan><row>2</row><rowspan>1</rowspan></row><row><value>19,152</value><is_header>False</is_header><col>7</col><colspan>1</colspan><row>2</row><rowspan>1</rowspan></row></table>'},\n",
       " 'output': '2019년 중앙선거관리위원회는 집행액 중 2,784억 7,400만 원은 일반지출로, 502억 4,500만 원은 관서운영경비로 사용하였다.'}"
      ]
     },
     "execution_count": 55,
     "metadata": {},
     "output_type": "execute_result"
    }
   ],
   "source": [
    "trans_xml[12]"
   ]
  },
  {
   "cell_type": "code",
   "execution_count": 56,
   "id": "3c9de484",
   "metadata": {},
   "outputs": [],
   "source": [
    "def save_to_jsonl(file_path, data):\n",
    "    with open(file_path, 'w', encoding='utf-8') as file:\n",
    "        for entry in data:\n",
    "            json_line = json.dumps(entry)\n",
    "            file.write(json_line + '\\n')\n",
    "\n",
    "# 파일 경로 설정\n",
    "file_path = 'trans_xml.jsonl'\n",
    "\n",
    "# 데이터를 JSONL 파일로 저장\n",
    "save_to_jsonl(file_path, trans_xml)"
   ]
  },
  {
   "cell_type": "markdown",
   "id": "b6006aec",
   "metadata": {},
   "source": [
    "# MarkDown"
   ]
  },
  {
   "cell_type": "code",
   "execution_count": 43,
   "id": "baec5bba",
   "metadata": {},
   "outputs": [
    {
     "name": "stdout",
     "output_type": "stream",
     "text": [
      "| 구분 | 예산액 | 예산액 | 예산현액 | 집행액 | 집행액 | 집행액 | 불용액 |\n",
      "| 구분 | 본예산 | 추경 | 예산현액 | 계 | 일반지출 | 관서운영경비 | 불용액 |\n",
      "| 총지출 | 343,572 | 343,572 | 348,378 | 328,719 | 278,474 | 50,245 | 19,152 |\n"
     ]
    }
   ],
   "source": [
    "import xml.etree.ElementTree as ET\n",
    "\n",
    "def parse_table(xml_data):\n",
    "    root = ET.fromstring(xml_data)\n",
    "    \n",
    "    # 최대 행과 열의 개수를 파악합니다.\n",
    "    max_row = max(int(cell.find('row').text) + int(cell.find('rowspan').text) - 1 for cell in root.findall('row'))\n",
    "    max_col = max(int(cell.find('col').text) + int(cell.find('colspan').text) - 1 for cell in root.findall('row'))\n",
    "\n",
    "    # 빈 테이블을 생성합니다.\n",
    "    table = [['' for _ in range(max_col + 1)] for _ in range(max_row + 1)]\n",
    "\n",
    "    # 각 셀의 위치와 크기를 파악하여 테이블에 채웁니다.\n",
    "    for cell in root.findall('row'):\n",
    "        value = cell.find('value').text\n",
    "        row = int(cell.find('row').text)\n",
    "        col = int(cell.find('col').text)\n",
    "        rowspan = int(cell.find('rowspan').text)\n",
    "        colspan = int(cell.find('colspan').text)\n",
    "        \n",
    "        for r in range(rowspan):\n",
    "            for c in range(colspan):\n",
    "                table[row + r][col + c] = value  # 모든 병합된 셀에 값을 넣음\n",
    "    \n",
    "    return table\n",
    "\n",
    "def convert_to_markdown(table):\n",
    "    markdown_table = []\n",
    "    for row in table:\n",
    "        # None 값을 빈 문자열로 변환하여 처리\n",
    "        clean_row = [str(cell) if cell is not None else '' for cell in row]\n",
    "        markdown_table.append('| ' + ' | '.join(clean_row) + ' |')\n",
    "    \n",
    "    return '\\n'.join(markdown_table)\n",
    "\n",
    "# XML 데이터\n",
    "xml_data = '''<table>\n",
    "<row><value>구분</value><is_header>True</is_header><col>0</col><colspan>1</colspan><row>0</row><rowspan>2</rowspan></row>\n",
    "<row><value>예산액</value><is_header>True</is_header><col>1</col><colspan>2</colspan><row>0</row><rowspan>1</rowspan></row>\n",
    "<row><value>예산현액</value><is_header>True</is_header><col>3</col><colspan>1</colspan><row>0</row><rowspan>2</rowspan></row>\n",
    "<row><value>집행액</value><is_header>True</is_header><col>4</col><colspan>3</colspan><row>0</row><rowspan>1</rowspan></row>\n",
    "<row><value>불용액</value><is_header>True</is_header><col>7</col><colspan>1</colspan><row>0</row><rowspan>2</rowspan></row>\n",
    "<row><value>본예산</value><is_header>False</is_header><col>1</col><colspan>1</colspan><row>1</row><rowspan>1</rowspan></row>\n",
    "<row><value>추경</value><is_header>False</is_header><col>2</col><colspan>1</colspan><row>1</row><rowspan>1</rowspan></row>\n",
    "<row><value>계</value><is_header>False</is_header><col>4</col><colspan>1</colspan><row>1</row><rowspan>1</rowspan></row>\n",
    "<row><value>일반지출</value><is_header>False</is_header><col>5</col><colspan>1</colspan><row>1</row><rowspan>1</rowspan></row>\n",
    "<row><value>관서운영경비</value><is_header>False</is_header><col>6</col><colspan>1</colspan><row>1</row><rowspan>1</rowspan></row>\n",
    "<row><value>총지출</value><is_header>False</is_header><col>0</col><colspan>1</colspan><row>2</row><rowspan>1</rowspan></row>\n",
    "<row><value>343,572</value><is_header>False</is_header><col>1</col><colspan>1</colspan><row>2</row><rowspan>1</rowspan></row>\n",
    "<row><value>343,572</value><is_header>False</is_header><col>2</col><colspan>1</colspan><row>2</row><rowspan>1</rowspan></row>\n",
    "<row><value>348,378</value><is_header>False</is_header><col>3</col><colspan>1</colspan><row>2</row><rowspan>1</rowspan></row>\n",
    "<row><value>328,719</value><is_header>False</is_header><col>4</col><colspan>1</colspan><row>2</row><rowspan>1</rowspan></row>\n",
    "<row><value>278,474</value><is_header>False</is_header><col>5</col><colspan>1</colspan><row>2</row><rowspan>1</rowspan></row>\n",
    "<row><value>50,245</value><is_header>False</is_header><col>6</col><colspan>1</colspan><row>2</row><rowspan>1</rowspan></row>\n",
    "<row><value>19,152</value><is_header>False</is_header><col>7</col><colspan>1</colspan><row>2</row><rowspan>1</rowspan></row>\n",
    "</table>'''\n",
    "\n",
    "# XML 파싱\n",
    "table = parse_table(xml_data)\n",
    "\n",
    "# Markdown 변환\n",
    "markdown = convert_to_markdown(table)\n",
    "\n",
    "# 결과 출력\n",
    "print(markdown)\n"
   ]
  },
  {
   "cell_type": "code",
   "execution_count": 44,
   "id": "9719d302",
   "metadata": {},
   "outputs": [
    {
     "data": {
      "text/plain": [
       "[['구분', '예산액', '예산액', '예산현액', '집행액', '집행액', '집행액', '불용액'],\n",
       " ['구분', '본예산', '추경', '예산현액', '계', '일반지출', '관서운영경비', '불용액'],\n",
       " ['총지출',\n",
       "  '343,572',\n",
       "  '343,572',\n",
       "  '348,378',\n",
       "  '328,719',\n",
       "  '278,474',\n",
       "  '50,245',\n",
       "  '19,152']]"
      ]
     },
     "execution_count": 44,
     "metadata": {},
     "output_type": "execute_result"
    }
   ],
   "source": [
    "table"
   ]
  },
  {
   "cell_type": "markdown",
   "id": "59878409",
   "metadata": {},
   "source": [
    "## MarkDown 1 - highlight by list"
   ]
  },
  {
   "cell_type": "code",
   "execution_count": 45,
   "id": "3fcd9a52",
   "metadata": {},
   "outputs": [],
   "source": [
    "trans_mkdw1 = []\n",
    "for d in data:\n",
    "    title = d['input']['metadata']['table_title']\n",
    "    highlighted_cells = d['input']['metadata']['highlighted_cells']\n",
    "    table = d['input']['table_xml']\n",
    "    table = convert_to_markdown(parse_table(table))\n",
    "    target = d['output']\n",
    "    trans_mkdw1.append({\n",
    "        'input': {\n",
    "            'table_title': title,\n",
    "            'highlighted_cells': highlighted_cells,\n",
    "            'table_mkdw1': table\n",
    "        },\n",
    "        'output': target\n",
    "    })"
   ]
  },
  {
   "cell_type": "code",
   "execution_count": 46,
   "id": "ba0acbeb",
   "metadata": {},
   "outputs": [
    {
     "data": {
      "text/plain": [
       "{'input': {'table_title': '2019년도 풍수해지원 사업 결산 현황',\n",
       "  'highlighted_cells': [[0, 2], [9, 2], [1, 3], [9, 3]],\n",
       "  'table_mkdw1': '| 사업명 | 사업명 | 예산 | 예산 | 예비비 | 예산현액(A) | 집행액(B) | 집행률(B/A) | 다음연도 이월액 | 불용액 |\\n| 사업명 | 사업명 | 본예산 | 추경 | 예비비 | 예산현액(A) | 집행액(B) | 집행률(B/A) | 다음연도 이월액 | 불용액 |\\n| 풍수해보험 | 풍수해보험 | 18,834 | 18,834 | 0 | 18,834 | 14,832 | 78.7 | 0 | 4,002 |\\n|  | 풍수해보험 보험료지원 | 18,375 | 18,375 | 0 | 18,375 | 14,373 | 78.2 | 0 | 4,002 |\\n|  | 풍수해보험 등 운영 | 459 | 459 | 0 | 459 | 459 | 100 | 0 | 0 |'},\n",
       " 'output': '2019년도 풍수해보험의 불용액은 40억 200만 원이며 전부 보험료 지원에서 발생한 것으로 조사되었다.'}"
      ]
     },
     "execution_count": 46,
     "metadata": {},
     "output_type": "execute_result"
    }
   ],
   "source": [
    "trans_mkdw1[3]"
   ]
  },
  {
   "cell_type": "code",
   "execution_count": 49,
   "id": "2782fb06",
   "metadata": {},
   "outputs": [
    {
     "name": "stdout",
     "output_type": "stream",
     "text": [
      "| 사업명 | 사업명 | 예산 | 예산 | 전년도 이월액 | 이․전용 등 | 예산현액(A) | 집행액(B) | 집행률(B/A) | 다음연도 이월액 | 불용액 |\n",
      "| 사업명 | 사업명 | 본예산 | 추경 | 전년도 이월액 | 이․전용 등 | 예산현액(A) | 집행액(B) | 집행률(B/A) | 다음연도 이월액 | 불용액 |\n",
      "| 기계산업핵심 기술개발 | 기계산업핵심 기술개발 | 47,612 | 79,612 | 0 | 0 | 79,612 | 79,612 | 100.0 | 0 | 0 |\n",
      "|  | 제조장비실증 | 0 | 32,000 | 0 | 0 | 32,000 | 32,000 | 100.0 | 0 | 0 |\n"
     ]
    }
   ],
   "source": [
    "print(trans_mkdw1[123]['input']['table_mkdw1'])"
   ]
  },
  {
   "cell_type": "code",
   "execution_count": 57,
   "id": "f0b3895b",
   "metadata": {},
   "outputs": [],
   "source": [
    "def save_to_jsonl(file_path, data):\n",
    "    with open(file_path, 'w', encoding='utf-8') as file:\n",
    "        for entry in data:\n",
    "            json_line = json.dumps(entry)\n",
    "            file.write(json_line + '\\n')\n",
    "\n",
    "# 파일 경로 설정\n",
    "file_path = 'trans_mkdw1.jsonl'\n",
    "\n",
    "# 데이터를 JSONL 파일로 저장\n",
    "save_to_jsonl(file_path, trans_mkdw1)"
   ]
  },
  {
   "cell_type": "markdown",
   "id": "2df5ecff",
   "metadata": {},
   "source": [
    "## MarkDown 2 - highlight by bold"
   ]
  },
  {
   "cell_type": "code",
   "execution_count": 71,
   "id": "0cc04792",
   "metadata": {},
   "outputs": [],
   "source": [
    "def convert_to_highlighted_markdown(table, highlighted_cells):\n",
    "    markdown_table = []\n",
    "    for row_idx, row in enumerate(table):\n",
    "        clean_row = []\n",
    "        for col_idx, cell in enumerate(row):\n",
    "            cell_str = str(cell) if cell is not None else ''\n",
    "            if [row_idx, col_idx] in highlighted_cells:\n",
    "                cell_str = f\"**{cell_str}**\"\n",
    "            clean_row.append(cell_str)\n",
    "        markdown_table.append('| ' + ' | '.join(clean_row) + ' |')\n",
    "    \n",
    "    return '\\n'.join(markdown_table)"
   ]
  },
  {
   "cell_type": "code",
   "execution_count": 72,
   "id": "021f157e",
   "metadata": {},
   "outputs": [],
   "source": [
    "trans_mkdw2 = []\n",
    "for d in data:\n",
    "    title = d['input']['metadata']['table_title']\n",
    "    highlighted_cells = d['input']['metadata']['highlighted_cells']\n",
    "    table = d['input']['table_xml']\n",
    "    table = convert_to_highlighted_markdown(parse_table(table), highlighted_cells)\n",
    "    target = d['output']\n",
    "    trans_mkdw2.append({\n",
    "        'input': {\n",
    "            'table_title': title,\n",
    "            'highlighted_cells': highlighted_cells,\n",
    "            'table_mkdw2': table\n",
    "        },\n",
    "        'output': target\n",
    "    })"
   ]
  },
  {
   "cell_type": "code",
   "execution_count": 75,
   "id": "eb925155",
   "metadata": {},
   "outputs": [
    {
     "name": "stdout",
     "output_type": "stream",
     "text": [
      "|  | 2015/16 | 2016/17 | **2017/18** |\n",
      "| 해외이전소득신고건수(건)1) | 48 | 145 | **220** |\n",
      "| 당초예상세수(백만파운드) | 25 | 270 | 360 |\n",
      "| 총세수(백만파운드)2) | 31 | 281 | **388** |\n"
     ]
    }
   ],
   "source": [
    "print(trans_mkdw2[0]['input']['table_mkdw2'])"
   ]
  },
  {
   "cell_type": "code",
   "execution_count": 76,
   "id": "f5e376e3",
   "metadata": {},
   "outputs": [],
   "source": [
    "def save_to_jsonl(file_path, data):\n",
    "    with open(file_path, 'w', encoding='utf-8') as file:\n",
    "        for entry in data:\n",
    "            json_line = json.dumps(entry)\n",
    "            file.write(json_line + '\\n')\n",
    "\n",
    "# 파일 경로 설정\n",
    "file_path = 'trans_mkdw2.jsonl'\n",
    "\n",
    "# 데이터를 JSONL 파일로 저장\n",
    "save_to_jsonl(file_path, trans_mkdw2)"
   ]
  },
  {
   "cell_type": "markdown",
   "id": "8701cbe9",
   "metadata": {},
   "source": [
    "# HTML로 변경"
   ]
  },
  {
   "cell_type": "code",
   "execution_count": 77,
   "id": "fb6e5872",
   "metadata": {},
   "outputs": [],
   "source": [
    "import xml.etree.ElementTree as ET\n",
    "\n",
    "def xml_to_html_table(xml_data):\n",
    "    root = ET.fromstring(xml_data)\n",
    "    \n",
    "    # HTML 표의 시작\n",
    "    html = '<table>\\n'\n",
    "    \n",
    "    # 최대 행 번호를 찾아서 행별로 데이터를 정리\n",
    "    max_row = max(int(cell.find('row').text) for cell in root.findall('row'))\n",
    "\n",
    "    # 각 행을 순차적으로 처리\n",
    "    for row_idx in range(max_row + 1):\n",
    "        html += '  <tr>\\n'\n",
    "        for cell in root.findall('row'):\n",
    "            if int(cell.find('row').text) == row_idx:\n",
    "                value = cell.find('value').text\n",
    "                if cell.find('is_header').text == 'True':\n",
    "                    html += f'    <th>{value if value else \"\"}</th>\\n'\n",
    "                else:\n",
    "                    html += f'    <td>{value}</td>\\n'\n",
    "        html += '  </tr>\\n'\n",
    "\n",
    "    # HTML 표의 끝\n",
    "    html += '</table>'\n",
    "    return html"
   ]
  },
  {
   "cell_type": "code",
   "execution_count": 78,
   "id": "6798ce6d",
   "metadata": {},
   "outputs": [],
   "source": [
    "trans_html = []\n",
    "for d in data:\n",
    "    title = d['input']['metadata']['table_title']\n",
    "    highlighted_cells = d['input']['metadata']['highlighted_cells']\n",
    "    table = xml_to_html_table(d['input']['table_xml'])\n",
    "    target = d['output']\n",
    "    trans_html.append({\n",
    "        'input': {\n",
    "            'table_title': title,\n",
    "            'highlighted_cells': highlighted_cells,\n",
    "            'table_html': table\n",
    "        },\n",
    "        'output': target\n",
    "    })"
   ]
  },
  {
   "cell_type": "code",
   "execution_count": 80,
   "id": "b92f8a4a",
   "metadata": {},
   "outputs": [
    {
     "name": "stdout",
     "output_type": "stream",
     "text": [
      "<table>\n",
      "  <tr>\n",
      "    <th></th>\n",
      "    <th>2015/16</th>\n",
      "    <th>2016/17</th>\n",
      "    <th>2017/18</th>\n",
      "  </tr>\n",
      "  <tr>\n",
      "    <td>해외이전소득신고건수(건)1)</td>\n",
      "    <td>48</td>\n",
      "    <td>145</td>\n",
      "    <td>220</td>\n",
      "  </tr>\n",
      "  <tr>\n",
      "    <td>당초예상세수(백만파운드)</td>\n",
      "    <td>25</td>\n",
      "    <td>270</td>\n",
      "    <td>360</td>\n",
      "  </tr>\n",
      "  <tr>\n",
      "    <td>총세수(백만파운드)2)</td>\n",
      "    <td>31</td>\n",
      "    <td>281</td>\n",
      "    <td>388</td>\n",
      "  </tr>\n",
      "</table>\n"
     ]
    }
   ],
   "source": [
    "print(trans_html[0]['input']['table_html'])"
   ]
  },
  {
   "cell_type": "code",
   "execution_count": null,
   "id": "11f0797a",
   "metadata": {},
   "outputs": [],
   "source": [
    "def save_to_jsonl(file_path, data):\n",
    "    with open(file_path, 'w', encoding='utf-8') as file:\n",
    "        for entry in data:\n",
    "            json_line = json.dumps(entry)\n",
    "            file.write(json_line + '\\n')\n",
    "\n",
    "# 파일 경로 설정\n",
    "file_path = 'trans_mkdw2.jsonl'\n",
    "\n",
    "# 데이터를 JSONL 파일로 저장\n",
    "save_to_jsonl(file_path, trans_mkdw2)"
   ]
  }
 ],
 "metadata": {
  "kernelspec": {
   "display_name": "Python 3.10 (NGC 24.01 / PyTorch 2.2) on Backend.AI",
   "language": "python",
   "name": "python3"
  },
  "language_info": {
   "codemirror_mode": {
    "name": "ipython",
    "version": 3
   },
   "file_extension": ".py",
   "mimetype": "text/x-python",
   "name": "python",
   "nbconvert_exporter": "python",
   "pygments_lexer": "ipython3",
   "version": "3.10.12"
  }
 },
 "nbformat": 4,
 "nbformat_minor": 5
}
